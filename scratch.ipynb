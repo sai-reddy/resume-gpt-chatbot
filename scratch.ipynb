{
 "cells": [
  {
   "cell_type": "code",
   "execution_count": 2,
   "metadata": {},
   "outputs": [
    {
     "name": "stderr",
     "output_type": "stream",
     "text": [
      "/Users/saispace/projects/ai-doc-qa/.venv/lib/python3.11/site-packages/pinecone/index.py:4: TqdmWarning: IProgress not found. Please update jupyter and ipywidgets. See https://ipywidgets.readthedocs.io/en/stable/user_install.html\n",
      "  from tqdm.autonotebook import tqdm\n"
     ]
    }
   ],
   "source": [
    "from langchain.document_loaders import UnstructuredPDFLoader, OnlinePDFLoader, PyPDFLoader\n",
    "from langchain.text_splitter import RecursiveCharacterTextSplitter\n",
    "from langchain.vectorstores import Chroma, Pinecone\n",
    "from langchain.embeddings.openai import OpenAIEmbeddings\n",
    "import pinecone\n",
    "import os"
   ]
  },
  {
   "cell_type": "code",
   "execution_count": 7,
   "metadata": {},
   "outputs": [
    {
     "name": "stderr",
     "output_type": "stream",
     "text": [
      "UsageError: Environment does not have key: OPENAI_API_KEY\n"
     ]
    }
   ],
   "source": [
    "OPENAI_API_KEY = %env OPENAI_API_KEY\n",
    "PINECONE_API_KEY = os.environ['PINECONE_API_KEY']\n",
    "# Environment will be in the index page in pinecone accounts under environment\n",
    "PINECONE_API_ENV = os.environ['PINECONE_API_ENV']"
   ]
  },
  {
   "cell_type": "code",
   "execution_count": 5,
   "metadata": {},
   "outputs": [
    {
     "ename": "KeyError",
     "evalue": "'%env PINECONE_API_KEY'",
     "output_type": "error",
     "traceback": [
      "\u001B[0;31m---------------------------------------------------------------------------\u001B[0m",
      "\u001B[0;31mKeyError\u001B[0m                                  Traceback (most recent call last)",
      "Cell \u001B[0;32mIn[5], line 2\u001B[0m\n\u001B[1;32m      1\u001B[0m pinecone\u001B[39m.\u001B[39minit(\n\u001B[0;32m----> 2\u001B[0m     api_key\u001B[39m=\u001B[39mos\u001B[39m.\u001B[39;49menviron[\u001B[39m'\u001B[39;49m\u001B[39m%e\u001B[39;49;00m\u001B[39mnv PINECONE_API_KEY\u001B[39;49m\u001B[39m'\u001B[39;49m],\n\u001B[1;32m      3\u001B[0m     environment\u001B[39m=\u001B[39mos\u001B[39m.\u001B[39menviron[\u001B[39m'\u001B[39m\u001B[39m%e\u001B[39;00m\u001B[39mnv PINECONE_API_ENV\u001B[39m\u001B[39m'\u001B[39m]\n\u001B[1;32m      4\u001B[0m )\n\u001B[1;32m      6\u001B[0m PINECONE_INDEX_NAME \u001B[39m=\u001B[39m \u001B[39m'\u001B[39m\u001B[39mresume-gpt-chatbot\u001B[39m\u001B[39m'\u001B[39m\n\u001B[1;32m      7\u001B[0m CHUNK_SIZE \u001B[39m=\u001B[39m \u001B[39m2000\u001B[39m\n",
      "File \u001B[0;32m<frozen os>:679\u001B[0m, in \u001B[0;36m__getitem__\u001B[0;34m(self, key)\u001B[0m\n",
      "\u001B[0;31mKeyError\u001B[0m: '%env PINECONE_API_KEY'"
     ]
    }
   ],
   "source": [
    "pinecone.init(\n",
    "    api_key=os.environ['%env PINECONE_API_KEY'],\n",
    "    environment=os.environ['%env PINECONE_API_ENV']\n",
    ")\n",
    "\n",
    "PINECONE_INDEX_NAME = 'resume-gpt-chatbot'\n",
    "CHUNK_SIZE = 2000\n"
   ]
  },
  {
   "cell_type": "code",
   "execution_count": null,
   "metadata": {},
   "outputs": [],
   "source": [
    "pinecone.create_index(PINECONE_INDEX_NAME, dimension=1536, metric='cosine')"
   ]
  },
  {
   "cell_type": "code",
   "execution_count": null,
   "metadata": {},
   "outputs": [],
   "source": [
    "loader = OnlinePDFLoader('https://storage.googleapis.com/resume-gpt-chatbot/sai_kalyanreddy_pentaparthi_resume.pdf')\n",
    "data = loader.load()\n",
    "\n",
    "# Split into smallest docs possible\n",
    "text_splitter = RecursiveCharacterTextSplitter(chunk_size=CHUNK_SIZE, chunk_overlap=0)\n",
    "texts = text_splitter.split_documents(data)\n",
    "\n",
    "# If vector count is nearing free limits delete index and recreate it\n",
    "# Create Embeddings\n",
    "embeddings = OpenAIEmbeddings(openai_api_key=os.environ['OPENAI_API_KEY'])\n",
    "Pinecone.from_texts([t.page_content for t in texts], embeddings, index_name=PINECONE_INDEX_NAME)"
   ]
  }
 ],
 "metadata": {
  "kernelspec": {
   "display_name": ".venv",
   "language": "python",
   "name": "python3"
  },
  "language_info": {
   "codemirror_mode": {
    "name": "ipython",
    "version": 3
   },
   "file_extension": ".py",
   "mimetype": "text/x-python",
   "name": "python",
   "nbconvert_exporter": "python",
   "pygments_lexer": "ipython3",
   "version": "3.11.4"
  },
  "orig_nbformat": 4
 },
 "nbformat": 4,
 "nbformat_minor": 2
}
